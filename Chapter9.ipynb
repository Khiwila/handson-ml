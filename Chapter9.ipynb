{
  "nbformat": 4,
  "nbformat_minor": 0,
  "metadata": {
    "colab": {
      "name": "Untitled6.ipynb",
      "provenance": [],
      "include_colab_link": true
    },
    "kernelspec": {
      "name": "python3",
      "display_name": "Python 3"
    }
  },
  "cells": [
    {
      "cell_type": "markdown",
      "metadata": {
        "id": "view-in-github",
        "colab_type": "text"
      },
      "source": [
        "<a href=\"https://colab.research.google.com/github/Khiwila/handson-ml/blob/master/Chapter9.ipynb\" target=\"_parent\"><img src=\"https://colab.research.google.com/assets/colab-badge.svg\" alt=\"Open In Colab\"/></a>"
      ]
    },
    {
      "cell_type": "code",
      "metadata": {
        "id": "G_jYCx7B91Jk",
        "colab_type": "code",
        "colab": {}
      },
      "source": [
        "import tensorflow as tf\n"
      ],
      "execution_count": 0,
      "outputs": []
    },
    {
      "cell_type": "code",
      "metadata": {
        "id": "YtVZTEDd_yZD",
        "colab_type": "code",
        "colab": {}
      },
      "source": [
        "x = tf.Variable(4, dtype = tf.float32, name = 'x')\n",
        "y = tf.Variable(3, dtype = tf.float32, name = 'y')\n",
        "c = tf.constant(2, dtype = tf.float32)\n"
      ],
      "execution_count": 0,
      "outputs": []
    },
    {
      "cell_type": "code",
      "metadata": {
        "id": "_b6QxPdQAhVA",
        "colab_type": "code",
        "colab": {}
      },
      "source": [
        "m = y + c\n",
        "w = x*x*y + y + c\n",
        "n = m + 4"
      ],
      "execution_count": 0,
      "outputs": []
    },
    {
      "cell_type": "code",
      "metadata": {
        "id": "dXKR6ea5Am1x",
        "colab_type": "code",
        "outputId": "bb1863a0-9258-449f-941b-2a618e933042",
        "colab": {
          "base_uri": "https://localhost:8080/",
          "height": 52
        }
      },
      "source": [
        "init = tf.global_variables_initializer()\n",
        "\n",
        "with tf.Session() as sesion1:\n",
        "  init.run()\n",
        "  w1 = w.eval()\n",
        "  print(n)\n",
        "  print(w1)\n",
        "  "
      ],
      "execution_count": 6,
      "outputs": [
        {
          "output_type": "stream",
          "text": [
            "Tensor(\"add_3:0\", shape=(), dtype=float32)\n",
            "53.0\n"
          ],
          "name": "stdout"
        }
      ]
    },
    {
      "cell_type": "code",
      "metadata": {
        "id": "ewgXhPR3BNJ0",
        "colab_type": "code",
        "colab": {}
      },
      "source": [
        "w = tf.constant(3)\n",
        "x = w + 2 \n",
        "y = x + 5\n",
        "z = x * 3\n"
      ],
      "execution_count": 0,
      "outputs": []
    },
    {
      "cell_type": "code",
      "metadata": {
        "id": "raZTBd8-HWvy",
        "colab_type": "code",
        "outputId": "66693b81-c8e0-4e9e-acfe-607f73f69f59",
        "colab": {
          "base_uri": "https://localhost:8080/",
          "height": 34
        }
      },
      "source": [
        "with tf.Session() as sesion2:\n",
        "  y_eval, z_eval = sesion2.run([y, z])\n",
        "  print(y_eval, z_eval)\n"
      ],
      "execution_count": 8,
      "outputs": [
        {
          "output_type": "stream",
          "text": [
            "10 15\n"
          ],
          "name": "stdout"
        }
      ]
    },
    {
      "cell_type": "code",
      "metadata": {
        "id": "pzoJ-X_iHjht",
        "colab_type": "code",
        "colab": {}
      },
      "source": [
        "A = tf.placeholder(tf.float32, shape = (None,3))\n",
        "B = A + 5\n"
      ],
      "execution_count": 0,
      "outputs": []
    },
    {
      "cell_type": "code",
      "metadata": {
        "id": "1C_EcmVoQLmg",
        "colab_type": "code",
        "outputId": "c8e35a36-aa49-4065-e46f-121b07ff1aa9",
        "colab": {
          "base_uri": "https://localhost:8080/",
          "height": 69
        }
      },
      "source": [
        "with tf.Session() as sesion3:\n",
        "  B_val_1 = B.eval(feed_dict = {A:[[3,4,2]]})\n",
        "  B_val_2 = B.eval(feed_dict = {A:[[3,4,2],[-2,0,5]]})\n",
        "\n",
        "  \n",
        "print (B_val_1)\n",
        "print (B_val_2)\n",
        "\n",
        "               "
      ],
      "execution_count": 10,
      "outputs": [
        {
          "output_type": "stream",
          "text": [
            "[[8. 9. 7.]]\n",
            "[[ 8.  9.  7.]\n",
            " [ 3.  5. 10.]]\n"
          ],
          "name": "stdout"
        }
      ]
    },
    {
      "cell_type": "code",
      "metadata": {
        "id": "DugG7Dl2S0B1",
        "colab_type": "code",
        "outputId": "94fedbff-ee76-416c-b3f5-07e2315ceb21",
        "colab": {
          "base_uri": "https://localhost:8080/",
          "height": 34
        }
      },
      "source": [
        "# linear regression with tensorflow\n",
        "\n",
        "import numpy as np\n",
        "from sklearn.datasets import fetch_california_housing\n",
        "\n",
        "housing = fetch_california_housing()\n",
        "m, n = housing.data.shape\n",
        "housing_data_plus_bias = np.c_[np.ones((m, 1)), housing.data]"
      ],
      "execution_count": 11,
      "outputs": [
        {
          "output_type": "stream",
          "text": [
            "Downloading Cal. housing from https://ndownloader.figshare.com/files/5976036 to /root/scikit_learn_data\n"
          ],
          "name": "stderr"
        }
      ]
    },
    {
      "cell_type": "code",
      "metadata": {
        "id": "vyV53eB6W2HR",
        "colab_type": "code",
        "outputId": "48306ff9-8741-4c05-aa32-8677125a0bb5",
        "colab": {
          "base_uri": "https://localhost:8080/",
          "height": 34
        }
      },
      "source": [
        "m,n"
      ],
      "execution_count": 12,
      "outputs": [
        {
          "output_type": "execute_result",
          "data": {
            "text/plain": [
              "(20640, 8)"
            ]
          },
          "metadata": {
            "tags": []
          },
          "execution_count": 12
        }
      ]
    },
    {
      "cell_type": "code",
      "metadata": {
        "id": "2Nb79v45XmGQ",
        "colab_type": "code",
        "colab": {
          "base_uri": "https://localhost:8080/",
          "height": 166
        },
        "outputId": "d4104766-f0f6-4cb4-e3a6-1db27d89a62d"
      },
      "source": [
        "housing('MedInc')"
      ],
      "execution_count": 23,
      "outputs": [
        {
          "output_type": "error",
          "ename": "TypeError",
          "evalue": "ignored",
          "traceback": [
            "\u001b[0;31m---------------------------------------------------------------------------\u001b[0m",
            "\u001b[0;31mTypeError\u001b[0m                                 Traceback (most recent call last)",
            "\u001b[0;32m<ipython-input-23-87e0ab4f1a3c>\u001b[0m in \u001b[0;36m<module>\u001b[0;34m()\u001b[0m\n\u001b[0;32m----> 1\u001b[0;31m \u001b[0mhousing\u001b[0m\u001b[0;34m(\u001b[0m\u001b[0;34m'MedInc'\u001b[0m\u001b[0;34m)\u001b[0m\u001b[0;34m\u001b[0m\u001b[0;34m\u001b[0m\u001b[0m\n\u001b[0m",
            "\u001b[0;31mTypeError\u001b[0m: 'Bunch' object is not callable"
          ]
        }
      ]
    },
    {
      "cell_type": "code",
      "metadata": {
        "id": "y9f_X5kfDH26",
        "colab_type": "code",
        "colab": {}
      },
      "source": [
        ""
      ],
      "execution_count": 0,
      "outputs": []
    }
  ]
}