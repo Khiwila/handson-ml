{
  "nbformat": 4,
  "nbformat_minor": 0,
  "metadata": {
    "colab": {
      "name": "Untitled6.ipynb",
      "provenance": [],
      "include_colab_link": true
    },
    "kernelspec": {
      "name": "python3",
      "display_name": "Python 3"
    }
  },
  "cells": [
    {
      "cell_type": "markdown",
      "metadata": {
        "id": "view-in-github",
        "colab_type": "text"
      },
      "source": [
        "<a href=\"https://colab.research.google.com/github/Khiwila/handson-ml/blob/master/Chapter9.ipynb\" target=\"_parent\"><img src=\"https://colab.research.google.com/assets/colab-badge.svg\" alt=\"Open In Colab\"/></a>"
      ]
    },
    {
      "cell_type": "code",
      "metadata": {
        "id": "G_jYCx7B91Jk",
        "colab_type": "code",
        "colab": {}
      },
      "source": [
        "import tensorflow as tf\n"
      ],
      "execution_count": 0,
      "outputs": []
    },
    {
      "cell_type": "code",
      "metadata": {
        "id": "YtVZTEDd_yZD",
        "colab_type": "code",
        "colab": {}
      },
      "source": [
        "x = tf.Variable(4, dtype = tf.float32, name = 'x')\n",
        "y = tf.Variable(3, dtype = tf.float32, name = 'y')\n",
        "c = tf.constant(2, dtype = tf.float32)\n"
      ],
      "execution_count": 0,
      "outputs": []
    },
    {
      "cell_type": "code",
      "metadata": {
        "id": "_b6QxPdQAhVA",
        "colab_type": "code",
        "colab": {}
      },
      "source": [
        "m = y + c\n",
        "w = x*x*y + y + c\n",
        "n = m + 4"
      ],
      "execution_count": 0,
      "outputs": []
    },
    {
      "cell_type": "code",
      "metadata": {
        "id": "dXKR6ea5Am1x",
        "colab_type": "code",
        "outputId": "2cd43461-da95-4002-f603-7f1eabb606a0",
        "colab": {
          "base_uri": "https://localhost:8080/",
          "height": 52
        }
      },
      "source": [
        "init = tf.global_variables_initializer()\n",
        "\n",
        "with tf.Session() as sesion1:\n",
        "  init.run()\n",
        "  w1 = w.eval()\n",
        "  print(n)\n",
        "  print(w1)\n",
        "  "
      ],
      "execution_count": 0,
      "outputs": [
        {
          "output_type": "stream",
          "text": [
            "Tensor(\"add_20:0\", shape=(), dtype=float32)\n",
            "53.0\n"
          ],
          "name": "stdout"
        }
      ]
    },
    {
      "cell_type": "code",
      "metadata": {
        "id": "ewgXhPR3BNJ0",
        "colab_type": "code",
        "colab": {}
      },
      "source": [
        "w = tf.constant(3)\n",
        "x = w + 2 \n",
        "y = x + 5\n",
        "z = x * 3\n"
      ],
      "execution_count": 0,
      "outputs": []
    },
    {
      "cell_type": "code",
      "metadata": {
        "id": "raZTBd8-HWvy",
        "colab_type": "code",
        "outputId": "23b17120-23e5-409f-8cef-4b1b78dd1146",
        "colab": {
          "base_uri": "https://localhost:8080/",
          "height": 34
        }
      },
      "source": [
        "with tf.Session() as sesion2:\n",
        "  y_eval, z_eval = sesion2.run([y, z])\n",
        "  print(y_eval, z_eval)\n"
      ],
      "execution_count": 0,
      "outputs": [
        {
          "output_type": "stream",
          "text": [
            "10 15\n"
          ],
          "name": "stdout"
        }
      ]
    },
    {
      "cell_type": "code",
      "metadata": {
        "id": "pzoJ-X_iHjht",
        "colab_type": "code",
        "colab": {}
      },
      "source": [
        "A = tf.placeholder(tf.float32, shape = (None,3))\n",
        "B = A + 5\n"
      ],
      "execution_count": 0,
      "outputs": []
    },
    {
      "cell_type": "code",
      "metadata": {
        "id": "1C_EcmVoQLmg",
        "colab_type": "code",
        "colab": {
          "base_uri": "https://localhost:8080/",
          "height": 69
        },
        "outputId": "3f811b05-ef0f-412b-8a5d-6a8209cb0f11"
      },
      "source": [
        "with tf.Session() as sesion3:\n",
        "  B_val_1 = B.eval(feed_dict = {A:[[3,4,2]]})\n",
        "  B_val_2 = B.eval(feed_dict = {A:[[3,4,2],[-2,0,5]]})\n",
        "\n",
        "  \n",
        "print (B_val_1)\n",
        "print (B_val_2)\n",
        "\n",
        "               "
      ],
      "execution_count": 45,
      "outputs": [
        {
          "output_type": "stream",
          "text": [
            "[[8. 9. 7.]]\n",
            "[[ 8.  9.  7.]\n",
            " [ 3.  5. 10.]]\n"
          ],
          "name": "stdout"
        }
      ]
    },
    {
      "cell_type": "code",
      "metadata": {
        "id": "DugG7Dl2S0B1",
        "colab_type": "code",
        "colab": {
          "base_uri": "https://localhost:8080/",
          "height": 34
        },
        "outputId": "39c58598-32a8-48a0-cd08-9f62d97bcc3a"
      },
      "source": [
        "# linear regression with tensorflow\n",
        "\n",
        "import numpy as np\n",
        "from sklearn.datasets import fetch_california_housing\n",
        "\n",
        "housing = fetch_california_housing()\n",
        "m, n = housing.data.shape\n",
        "housing_data_plus_bias = np.c_[np.ones((m, 1)), housing.data]"
      ],
      "execution_count": 50,
      "outputs": [
        {
          "output_type": "stream",
          "text": [
            "Downloading Cal. housing from https://ndownloader.figshare.com/files/5976036 to /root/scikit_learn_data\n"
          ],
          "name": "stderr"
        }
      ]
    },
    {
      "cell_type": "code",
      "metadata": {
        "id": "vyV53eB6W2HR",
        "colab_type": "code",
        "colab": {
          "base_uri": "https://localhost:8080/",
          "height": 34
        },
        "outputId": "d94671cf-9cea-4d9d-d2c5-7a9914e8d28b"
      },
      "source": [
        "m,n"
      ],
      "execution_count": 73,
      "outputs": [
        {
          "output_type": "execute_result",
          "data": {
            "text/plain": [
              "(20640, 8)"
            ]
          },
          "metadata": {
            "tags": []
          },
          "execution_count": 73
        }
      ]
    },
    {
      "cell_type": "code",
      "metadata": {
        "id": "vZ-1tu_DW3BK",
        "colab_type": "code",
        "colab": {}
      },
      "source": [
        "aa= np.c_[1,2]"
      ],
      "execution_count": 0,
      "outputs": []
    },
    {
      "cell_type": "code",
      "metadata": {
        "id": "8z9lV1huXisz",
        "colab_type": "code",
        "colab": {
          "base_uri": "https://localhost:8080/",
          "height": 34
        },
        "outputId": "134a8922-11b9-400b-9bfc-492b14c56949"
      },
      "source": [
        "print(aa)"
      ],
      "execution_count": 79,
      "outputs": [
        {
          "output_type": "stream",
          "text": [
            "[[1 2]]\n"
          ],
          "name": "stdout"
        }
      ]
    },
    {
      "cell_type": "code",
      "metadata": {
        "id": "2Nb79v45XmGQ",
        "colab_type": "code",
        "colab": {}
      },
      "source": [
        ""
      ],
      "execution_count": 0,
      "outputs": []
    }
  ]
}